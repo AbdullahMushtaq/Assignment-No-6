{
 "cells": [
  {
   "cell_type": "markdown",
   "metadata": {},
   "source": [
    "Question No 1\n",
    "Define object oriented programming language"
   ]
  },
  {
   "cell_type": "markdown",
   "metadata": {},
   "source": [
    "Answer\n",
    "Object-oriented programming (OOP) refers to a type of computer programming (software design) in which programmers define not only the data type of a data structure, but also the types of operations (functions) that can be applied to the data structure."
   ]
  },
  {
   "cell_type": "markdown",
   "metadata": {},
   "source": [
    "Question No 2\n",
    "List down the benefits of OOP?"
   ]
  },
  {
   "cell_type": "markdown",
   "metadata": {},
   "source": [
    "Answer\n",
    "Modularity for easier troubleshooting\n",
    "Reuse of code through inheritance\n",
    "Flexibility through polymorphism\n",
    "Effective problem solving"
   ]
  },
  {
   "cell_type": "markdown",
   "metadata": {},
   "source": [
    "Question 3:\n",
    "Differentiate between function and method?"
   ]
  },
  {
   "cell_type": "markdown",
   "metadata": {},
   "source": [
    "Function:\n",
    "A function is a piece of code that is called by name. It can be passed data to operate on (i.e. the parameters) and can optionally return data (the return value). All data that is passed to a function is explicitly passed.\n",
    "\n",
    "Method:\n",
    "A method is a piece of code that is called by a name that is associated with an object. In most respects it is identical to a function except for two key differences\n"
   ]
  },
  {
   "cell_type": "markdown",
   "metadata": {},
   "source": [
    "Question 4:\n",
    "Define the following terms:\n",
    "1. Class\n",
    "2. Object\n",
    "3. Attribute\n",
    "4. Behavior"
   ]
  },
  {
   "cell_type": "markdown",
   "metadata": {},
   "source": [
    "Class:\n",
    "The Class name is an identifier, which is the user-defined data type name.The member attributes hold data just like variables which can be accessed by the member attributes only via particular class/objects.\n",
    "Object:\n",
    "An object is an instance of a class. A class is only a prototype. Which doesn't have any memory for storing value(which is exceptional for static members).It may be defined as a variable of user-defined datatype classes. Through an object or instance, all classes member variables and member functions.\n",
    "Attribute:\n",
    "A class attribute is a Python variable that belongs to a class rather than a particular object. It is shared between all the objects of this class and it is defined outside the constructor function.\n",
    "Behaviour:\n",
    "Behaviors are actions that can occur on an object. The behaviors that can be performed on a specific class of object are called methods. At the programming level, methods are like functions in structured programming, but they magically have access to all the data associated with this object. Like functions, methods can also accept parameters and return values."
   ]
  },
  {
   "cell_type": "markdown",
   "metadata": {},
   "source": [
    "Question 5:\n",
    "Write a code in python in which create a class named it Car which\n",
    "have 5 attributes such like (model, color and name etc.) and 3\n",
    "methods. And create 5 object instance from that class."
   ]
  },
  {
   "cell_type": "code",
   "execution_count": 3,
   "metadata": {},
   "outputs": [
    {
     "name": "stdout",
     "output_type": "stream",
     "text": [
      "Car is moving forward/backward\n",
      "Car is turning\n",
      "car is being stopped\n"
     ]
    }
   ],
   "source": [
    "\n",
    "class car:\n",
    "    def drive(self):\n",
    "        print(\"Car is moving forward/backward\")\n",
    "    def direction(self):\n",
    "        print(\"Car is turning\")\n",
    "    def brake(self):\n",
    "        print(\"car is being stopped\")\n",
    "\n",
    "model = car()\n",
    "color = car()\n",
    "name = car()\n",
    "engine = car()\n",
    "variant = car()\n",
    "\n",
    "car.drive(model)\n",
    "car.direction(model)\n",
    "car.brake(model)"
   ]
  },
  {
   "cell_type": "code",
   "execution_count": null,
   "metadata": {},
   "outputs": [],
   "source": []
  }
 ],
 "metadata": {
  "kernelspec": {
   "display_name": "Python 3",
   "language": "python",
   "name": "python3"
  },
  "language_info": {
   "codemirror_mode": {
    "name": "ipython",
    "version": 3
   },
   "file_extension": ".py",
   "mimetype": "text/x-python",
   "name": "python",
   "nbconvert_exporter": "python",
   "pygments_lexer": "ipython3",
   "version": "3.7.3"
  }
 },
 "nbformat": 4,
 "nbformat_minor": 2
}
